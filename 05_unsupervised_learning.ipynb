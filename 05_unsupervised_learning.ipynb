{
  "nbformat": 4,
  "nbformat_minor": 0,
  "metadata": {
    "colab": {
      "provenance": []
    },
    "kernelspec": {
      "name": "python3",
      "display_name": "Python 3"
    },
    "language_info": {
      "name": "python"
    }
  },
  "cells": [
    {
      "cell_type": "code",
      "execution_count": null,
      "metadata": {
        "id": "pysCyuS56u-g"
      },
      "outputs": [],
      "source": [
        "import pandas as pd\n",
        "from sklearn.preprocessing import StandardScaler\n",
        "from sklearn.cluster import KMeans\n",
        "from scipy.cluster.hierarchy import dendrogram, linkage\n",
        "import matplotlib.pyplot as plt\n",
        "import os\n",
        "\n",
        "os.makedirs(\"figures\", exist_ok=True)\n",
        "\n",
        "df = pd.read_csv(\"results/heart_clean.csv\")\n",
        "X = df.drop(\"target\", axis=1)\n",
        "\n",
        "scaler = StandardScaler()\n",
        "X_scaled = scaler.fit_transform(X)\n",
        "\n",
        "# K-Means\n",
        "kmeans = KMeans(n_clusters=2, random_state=42)\n",
        "kmeans.fit(X_scaled)\n",
        "\n",
        "# Hierarchical Clustering\n",
        "linkage_matrix = linkage(X_scaled[:100], method='ward')\n",
        "plt.figure(figsize=(8,5))\n",
        "dendrogram(linkage_matrix)\n",
        "plt.title(\"Hierarchical Clustering Dendrogram\")\n",
        "plt.tight_layout()\n",
        "plt.savefig(\"figures/hierarchical_dendrogram.png\", dpi=160)\n",
        "plt.close()\n",
        "\n",
        "print(\"✅ Unsupervised learning complete. Dendrogram saved.\")\n"
      ]
    }
  ]
}
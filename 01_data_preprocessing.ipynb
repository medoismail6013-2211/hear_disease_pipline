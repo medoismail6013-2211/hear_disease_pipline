{
 "cells": [
  {
   "cell_type": "code",
   "metadata": {},
   "source": [
    "import pandas as pd\n",
    "import os\n",
    "import seaborn as sns\n",
    "import matplotlib.pyplot as plt\n",
    "\n",
    "os.makedirs('figures', exist_ok=True)\n",
    "os.makedirs('results', exist_ok=True)\n",
    "\n",
    "url = 'https://archive.ics.uci.edu/ml/machine-learning-databases/heart-disease/processed.cleveland.data'\n",
    "columns = ['age','sex','cp','trestbps','chol','fbs','restecg','thalach','exang',\n",
    "           'oldpeak','slope','ca','thal','target']\n",
    "df = pd.read_csv(url, names=columns, na_values='?')\n",
    "df['target'] = df['target'].apply(lambda x: 1 if x > 0 else 0)\n",
    "\n",
    "for col in df.columns:\n",
    "    if df[col].isnull().sum() > 0:\n",
    "        mode_val = df[col].mode()[0]\n",
    "        df[col] = df[col].fillna(mode_val)\n",
    "\n",
    "sns.heatmap(df.corr(), cmap='coolwarm')\n",
    "plt.title('Correlation Heatmap')\n",
    "plt.tight_layout()\n",
    "plt.savefig('figures/correlation_heatmap.png', dpi=160)\n",
    "plt.close()\n",
    "\n",
    "df.to_csv('results/heart_clean.csv', index=False)\n",
    "print('✅ Data preprocessing complete and saved.')"
   ]
  }
 ],
 "metadata": {},
 "nbformat": 4,
 "nbformat_minor": 5
}
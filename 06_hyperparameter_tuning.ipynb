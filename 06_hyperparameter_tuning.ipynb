{
  "nbformat": 4,
  "nbformat_minor": 0,
  "metadata": {
    "colab": {
      "provenance": []
    },
    "kernelspec": {
      "name": "python3",
      "display_name": "Python 3"
    },
    "language_info": {
      "name": "python"
    }
  },
  "cells": [
    {
      "cell_type": "code",
      "execution_count": null,
      "metadata": {
        "id": "pysCyuS56u-g"
      },
      "outputs": [],
      "source": [
        "import pandas as pd\n",
        "from sklearn.model_selection import train_test_split, GridSearchCV\n",
        "from sklearn.ensemble import RandomForestClassifier\n",
        "from sklearn.preprocessing import StandardScaler\n",
        "import joblib\n",
        "import os\n",
        "\n",
        "os.makedirs(\"results\", exist_ok=True)\n",
        "\n",
        "df = pd.read_csv(\"results/heart_clean.csv\")\n",
        "X = df.drop(\"target\", axis=1)\n",
        "y = df[\"target\"]\n",
        "\n",
        "scaler = StandardScaler()\n",
        "X_scaled = scaler.fit_transform(X)\n",
        "\n",
        "X_train, X_test, y_train, y_test = train_test_split(\n",
        "    X_scaled, y, test_size=0.2, random_state=42, stratify=y\n",
        ")\n",
        "\n",
        "param_grid = {\n",
        "    \"n_estimators\": [50, 100, 200],\n",
        "    \"max_depth\": [None, 5, 10]\n",
        "}\n",
        "grid = GridSearchCV(RandomForestClassifier(random_state=42), param_grid, cv=3)\n",
        "grid.fit(X_train, y_train)\n",
        "\n",
        "with open(\"results/best_params.txt\", \"w\") as f:\n",
        "    f.write(str(grid.best_params_))\n",
        "\n",
        "joblib.dump(grid.best_estimator_, \"results/heart_best_model.pkl\")\n",
        "print(\"✅ Hyperparameter tuning complete. Best model saved.\")\n"
      ]
    }
  ]
}
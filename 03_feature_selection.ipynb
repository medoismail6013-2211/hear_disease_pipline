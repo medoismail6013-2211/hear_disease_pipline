{
 "cells": [
  {
   "cell_type": "code",
   "metadata": {},
   "source": [
    "import pandas as pd\n",
    "import matplotlib.pyplot as plt\n",
    "from sklearn.ensemble import RandomForestClassifier\n",
    "from sklearn.linear_model import LogisticRegression\n",
    "from sklearn.feature_selection import RFE, SelectKBest, chi2\n",
    "from sklearn.preprocessing import StandardScaler\n",
    "import os\n",
    "\n",
    "os.makedirs('figures', exist_ok=True)\n",
    "os.makedirs('results', exist_ok=True)\n",
    "df = pd.read_csv('results/heart_clean.csv')\n",
    "X = df.drop('target', axis=1)\n",
    "y = df['target']\n",
    "scaler = StandardScaler()\n",
    "X_scaled = scaler.fit_transform(X)\n",
    "rf = RandomForestClassifier(random_state=42)\n",
    "rf.fit(X_scaled, y)\n",
    "importances = rf.feature_importances_\n",
    "plt.bar(X.columns, importances)\n",
    "plt.xticks(rotation=90)\n",
    "plt.title('Feature Importance (RandomForest)')\n",
    "plt.tight_layout()\n",
    "plt.savefig('figures/rf_feature_importance.png', dpi=160)\n",
    "plt.close()\n",
    "rfe = RFE(estimator=LogisticRegression(max_iter=1000), n_features_to_select=5)\n",
    "rfe.fit(X_scaled, y)\n",
    "with open('results/rfe_features.txt', 'w') as f:\n",
    "    f.write('\n'.join(X.columns[rfe.support_]))\n",
    "chi_selector = SelectKBest(score_func=chi2, k=5)\n",
    "chi_selector.fit(abs(X_scaled), y)\n",
    "with open('results/chi2_features.txt', 'w') as f:\n",
    "    f.write('\n'.join(X.columns[chi_selector.get_support()]))\n",
    "print('✅ Feature selection complete.')"
   ]
  }
 ],
 "metadata": {},
 "nbformat": 4,
 "nbformat_minor": 5
}